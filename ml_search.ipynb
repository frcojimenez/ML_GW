{
 "cells": [
  {
   "cell_type": "code",
   "execution_count": 2,
   "id": "aa35411c-b578-49a1-bbee-c8c65ff55667",
   "metadata": {},
   "outputs": [
    {
     "name": "stdout",
     "output_type": "stream",
     "text": [
      "./input/classification_validation_data.npz\n",
      "./input/sample_submission.csv\n",
      "./input/classification_test_data.npz\n",
      "./input/classification_training_data.npz\n",
      "./input/g2net-hackathon.zip\n"
     ]
    }
   ],
   "source": [
    "# This Python 3 environment comes with many helpful analytics libraries installed\n",
    "# It is defined by the kaggle/python Docker image: https://github.com/kaggle/docker-python\n",
    "# For example, here's several helpful packages to load\n",
    "\n",
    "import numpy as np # linear algebra\n",
    "import pandas as pd # data processing, CSV file I/O (e.g. pd.read_csv)\n",
    "\n",
    "# Input data files are available in the read-only \"../input/\" directory\n",
    "# For example, running this (by clicking run or pressing Shift+Enter) will list all files under the input directory\n",
    "\n",
    "import os\n",
    "for dirname, _, filenames in os.walk('./input'):\n",
    "    for filename in filenames:\n",
    "        print(os.path.join(dirname, filename))\n",
    "\n",
    "# You can write up to 20GB to the current directory (/kaggle/working/) that gets preserved as output when you create a version using \"Save & Run All\" \n",
    "# You can also write temporary files to /kaggle/temp/, but they won't be saved outside of the current session"
   ]
  },
  {
   "cell_type": "code",
   "execution_count": 3,
   "id": "8ed6a5bd-6cdc-48d3-823b-8ce03310a4e6",
   "metadata": {},
   "outputs": [],
   "source": [
    "import numpy as np\n",
    "import pandas as pd\n",
    "import random\n",
    "import torch\n",
    "from torch.utils.data import Dataset, DataLoader\n",
    "from torch.optim import SGD, Adam, Adamax, AdamW\n",
    "from torch import nn\n",
    "from torchmetrics.classification.accuracy import MulticlassAccuracy\n",
    "\n",
    "import pylab"
   ]
  },
  {
   "cell_type": "code",
   "execution_count": 4,
   "id": "b27b8a0e-ccd3-4908-8962-62572531f73b",
   "metadata": {},
   "outputs": [],
   "source": [
    "torch.manual_seed(113)\n",
    "np.random.seed(1)"
   ]
  },
  {
   "cell_type": "code",
   "execution_count": 5,
   "id": "c0d722e3-871f-473a-b214-d654b78bc683",
   "metadata": {},
   "outputs": [],
   "source": [
    "def seed_everything(seed=1234):\n",
    "    random.seed(seed)\n",
    "    os.environ['PYTHONHASHSEED'] = str(seed)\n",
    "    np.random.seed(seed)\n",
    "    torch.manual_seed(seed)\n",
    "    torch.cuda.manual_seed(seed)\n",
    "    torch.backends.cudnn.deterministic = True\n",
    "seed_everything(0)"
   ]
  },
  {
   "cell_type": "code",
   "execution_count": 6,
   "id": "77844bde-e0cb-48ac-bff6-3164cdd7ce43",
   "metadata": {},
   "outputs": [
    {
     "name": "stdout",
     "output_type": "stream",
     "text": [
      "Total number of samples: 10000\n",
      "Total number of samples: 2000\n"
     ]
    }
   ],
   "source": [
    "class WaveformDataset(Dataset):\n",
    "    def __init__(self, npz_file, test=False):\n",
    "        df = np.load(npz_file)\n",
    "        self.foregrounds = df['foreground']\n",
    "        self.n_samples = self.foregrounds.shape[0]\n",
    "        print(f'Total number of samples: {self.n_samples}')\n",
    "        self.test = test\n",
    "        if not self.test:\n",
    "            # we don't have labels available for the test set\n",
    "            self.labels = df['label'][:self.n_samples]\n",
    "\n",
    "    def __len__(self):\n",
    "        return self.n_samples\n",
    "\n",
    "    def __getitem__(self, item):\n",
    "        fg = np.asarray(self.foregrounds[item, :])\n",
    "        if self.test:\n",
    "            return torch.from_numpy(fg)\n",
    "\n",
    "        label = np.asarray(self.labels[item])\n",
    "        return torch.from_numpy(fg), label\n",
    "\n",
    "train_dataset = WaveformDataset('./input/classification_training_data.npz')\n",
    "val_dataset = WaveformDataset('./input/classification_validation_data.npz')"
   ]
  },
  {
   "cell_type": "code",
   "execution_count": 7,
   "id": "30f8fae6-5c6a-49c8-8377-2ebdaa96b5a5",
   "metadata": {},
   "outputs": [
    {
     "name": "stdout",
     "output_type": "stream",
     "text": [
      "Sequential(\n",
      "  (0): BatchNorm1d(1, eps=1e-05, momentum=0.1, affine=True, track_running_stats=True)\n",
      "  (1): Conv1d(1, 4, kernel_size=(64,), stride=(1,))\n",
      "  (2): ELU(alpha=1.0)\n",
      "  (3): Conv1d(4, 4, kernel_size=(32,), stride=(1,))\n",
      "  (4): MaxPool1d(kernel_size=4, stride=4, padding=0, dilation=1, ceil_mode=False)\n",
      "  (5): ELU(alpha=1.0)\n",
      "  (6): Conv1d(4, 8, kernel_size=(32,), stride=(1,))\n",
      "  (7): ELU(alpha=1.0)\n",
      "  (8): Conv1d(8, 8, kernel_size=(16,), stride=(1,))\n",
      "  (9): MaxPool1d(kernel_size=3, stride=3, padding=0, dilation=1, ceil_mode=False)\n",
      "  (10): ELU(alpha=1.0)\n",
      "  (11): Conv1d(8, 16, kernel_size=(16,), stride=(1,))\n",
      "  (12): ELU(alpha=1.0)\n",
      "  (13): Conv1d(16, 16, kernel_size=(16,), stride=(1,))\n",
      "  (14): MaxPool1d(kernel_size=4, stride=4, padding=0, dilation=1, ceil_mode=False)\n",
      "  (15): ELU(alpha=1.0)\n",
      "  (16): Flatten(start_dim=1, end_dim=-1)\n",
      "  (17): Linear(in_features=464, out_features=32, bias=True)\n",
      "  (18): Dropout(p=0.5, inplace=False)\n",
      "  (19): ELU(alpha=1.0)\n",
      "  (20): Linear(in_features=32, out_features=16, bias=True)\n",
      "  (21): Dropout(p=0.5, inplace=False)\n",
      "  (22): ELU(alpha=1.0)\n",
      "  (23): Linear(in_features=16, out_features=3, bias=True)\n",
      "  (24): Softmax(dim=1)\n",
      ")\n"
     ]
    }
   ],
   "source": [
    "network = nn.Sequential(  # Shapes\n",
    "    nn.BatchNorm1d(1),  # 1x2048\n",
    "    nn.Conv1d(1, 4, 64),  # 4x1985\n",
    "    nn.ELU(),  # 4x1985\n",
    "    nn.Conv1d(4, 4, 32),  # 4x1954\n",
    "    nn.MaxPool1d(4),  # 4x 489\n",
    "    nn.ELU(),  # 4x 489\n",
    "    nn.Conv1d(4, 8, 32),  # 8x 458\n",
    "    nn.ELU(),  # 8x 458\n",
    "    nn.Conv1d(8, 8, 16),  # 8x 443\n",
    "    nn.MaxPool1d(3),  # 8x 147\n",
    "    nn.ELU(),  # 8x 147\n",
    "    nn.Conv1d(8, 16, 16),  # 16x 132\n",
    "    nn.ELU(),  # 16x 132\n",
    "    nn.Conv1d(16, 16, 16),  # 16x 117\n",
    "    nn.MaxPool1d(4),  # 16x  29\n",
    "    nn.ELU(),  # 16x  29\n",
    "    nn.Flatten(),  # 464\n",
    "    nn.Linear(464, 32),  # 32\n",
    "    nn.Dropout(p=0.5),  # 32\n",
    "    nn.ELU(),  # 32\n",
    "    nn.Linear(32, 16),  # 16\n",
    "    nn.Dropout(p=0.5),  # 16\n",
    "    nn.ELU(),  # 16\n",
    "    nn.Linear(16, 3),  # 2\n",
    "    nn.Softmax(dim=1)  # 2\n",
    ")\n",
    "print(network)\n",
    "# HINT: https://pytorch.org/docs/stable/nn.init.html\n",
    "# https://stackoverflow.com/a/49433937"
   ]
  },
  {
   "cell_type": "code",
   "execution_count": 8,
   "id": "ee6999b5-59e2-45f0-a961-7cb34be99298",
   "metadata": {},
   "outputs": [],
   "source": [
    "device = 'cuda:0'\n",
    "device = 'cpu'\n",
    "network = network.to(device)\n",
    "\n",
    "train_dataloader = DataLoader(train_dataset, batch_size=32, shuffle=True, num_workers=2, pin_memory=device)\n",
    "val_dataloader = DataLoader(val_dataset, batch_size=128, num_workers=2, pin_memory=device)\n",
    "n_epochs = 10\n",
    "lr = 5e-5\n",
    "optimizer = Adam(network.parameters(), lr=lr)\n",
    "# HINT: https://pytorch.org/docs/stable/generated/torch.optim.lr_scheduler.StepLR.html\n",
    "loss = nn.CrossEntropyLoss()\n",
    "\n",
    "train_losses = np.zeros((n_epochs,))\n",
    "train_accs = np.zeros((n_epochs,))\n",
    "val_losses = np.zeros((n_epochs,))\n",
    "val_accs = np.zeros((n_epochs,))\n",
    "\n",
    "acc_metric = MulticlassAccuracy(num_classes=3, average='none').to(device)\n",
    "\n",
    "\n",
    "learn_rates = [5e-5,5e-3,5e-2,5e-1]\n",
    "optimizers= [ Adam, Adamax, SGD, AdamW]\n",
    "\n",
    "learn_rates = [5e-5]\n",
    "optimizers= [ Adam]"
   ]
  },
  {
   "cell_type": "code",
   "execution_count": 9,
   "id": "1a130202-324f-42e5-a750-67d516f53773",
   "metadata": {},
   "outputs": [
    {
     "name": "stdout",
     "output_type": "stream",
     "text": [
      "Epoch 0 | Training   | Loss 1.10 | Acc 34.86% \n",
      "Epoch 0 | Validation | Loss 1.10 | Acc 34.65% (0: 1.00 1: 0.00 2: 0.00)\n",
      "Epoch 1 | Training   | Loss 1.10 | Acc 36.05% \n",
      "Epoch 1 | Validation | Loss 1.10 | Acc 34.65% (0: 1.00 1: 0.00 2: 0.00)\n",
      "Epoch 2 | Training   | Loss 1.10 | Acc 37.18% \n",
      "Epoch 2 | Validation | Loss 1.09 | Acc 41.80% (0: 1.00 1: 0.00 2: 0.21)\n",
      "Epoch 3 | Training   | Loss 0.99 | Acc 58.37% \n",
      "Epoch 3 | Validation | Loss 0.94 | Acc 58.85% (0: 0.74 1: 0.00 2: 0.94)\n",
      "Epoch 4 | Training   | Loss 0.89 | Acc 65.63% \n",
      "Epoch 4 | Validation | Loss 0.85 | Acc 67.50% (0: 0.96 1: 0.19 2: 0.81)\n",
      "Epoch 5 | Training   | Loss 0.86 | Acc 68.18% \n",
      "Epoch 5 | Validation | Loss 0.84 | Acc 71.15% (0: 0.86 1: 0.35 2: 0.88)\n",
      "Epoch 6 | Training   | Loss 0.85 | Acc 69.51% \n",
      "Epoch 6 | Validation | Loss 0.82 | Acc 72.40% (0: 0.90 1: 0.43 2: 0.81)\n",
      "Epoch 7 | Training   | Loss 0.85 | Acc 70.59% \n",
      "Epoch 7 | Validation | Loss 0.85 | Acc 69.75% (0: 0.78 1: 0.37 2: 0.90)\n",
      "Epoch 8 | Training   | Loss 0.83 | Acc 71.66% \n",
      "Epoch 8 | Validation | Loss 0.83 | Acc 71.65% (0: 0.77 1: 0.45 2: 0.88)\n",
      "Epoch 9 | Training   | Loss 0.83 | Acc 72.87% \n",
      "Epoch 9 | Validation | Loss 0.87 | Acc 67.10% (0: 0.69 1: 0.37 2: 0.91)\n",
      "Running network on test data...\n",
      "Total number of samples: 10000\n"
     ]
    },
    {
     "name": "stderr",
     "output_type": "stream",
     "text": [
      "/work/francisco.jimenez/venv_sc/lib/python3.7/site-packages/torch/utils/data/dataloader.py:557: UserWarning: This DataLoader will create 8 worker processes in total. Our suggested max number of worker in current system is 2, which is smaller than what this DataLoader is going to create. Please be aware that excessive worker creation might get DataLoader running slow or even freeze, lower the worker number to avoid potential slowness/freeze if necessary.\n",
      "  cpuset_checked))\n"
     ]
    },
    {
     "data": {
      "image/png": "[encoded data removed]",
      "text/plain": [
       "<Figure size 432x288 with 2 Axes>"
      ]
     },
     "metadata": {
      "needs_background": "light"
     },
     "output_type": "display_data"
    }
   ],
   "source": [
    "for k in learn_rates :\n",
    "    for j in optimizers:\n",
    "        optimizer = j(network.parameters(), lr=k)\n",
    "\n",
    "        for ep in range(n_epochs):\n",
    "            network.train()\n",
    "            training_loss = 0.\n",
    "            training_correct = 0\n",
    "            training_total = 0\n",
    "            for i, (x, y) in enumerate(train_dataloader):\n",
    "                # unsqueeze is needed here to add a channel dimension so we can use convolutional layers\n",
    "                x = x.unsqueeze_(1).to(dtype=torch.float32).to(device)\n",
    "                y = y.to(dtype=torch.long).to(device)\n",
    "\n",
    "                optimizer.zero_grad()\n",
    "\n",
    "                p = network(x)\n",
    "                l = loss(p, y)\n",
    "\n",
    "                l.backward()\n",
    "                # HINT: https://pytorch.org/docs/stable/generated/torch.nn.utils.clip_grad_norm_.html\n",
    "                optimizer.step()\n",
    "\n",
    "                training_loss += l.item()\n",
    "                # we need to convert the one-hot predictions into (0, 1, 2) labels to measure accuracy\n",
    "                _, p_c = p.max(1)\n",
    "                training_correct += p_c.eq(y).sum().item()\n",
    "                training_total += x.size(0)\n",
    "\n",
    "            train_losses[ep] = training_loss / (i + 1)\n",
    "            train_accs[ep] = 100 * training_correct/training_total\n",
    "            print(f'Epoch {ep} | Training   | Loss {train_losses[ep]:3.2f} |'\n",
    "                  f' Acc {train_accs[ep]:5.2f}% ')\n",
    "\n",
    "            network.eval()  # this line sets the network to evaluation mode (e.g., do not compute gradients, or mean and std for batch normalization layers)\n",
    "            validation_loss = 0.\n",
    "            validation_correct = 0.\n",
    "            validation_total = 0.\n",
    "            val_preds = []\n",
    "            val_gt = []\n",
    "            with torch.no_grad():\n",
    "                for i, (x, y) in enumerate(val_dataloader):\n",
    "                    x = x.unsqueeze_(1).to(dtype=torch.float32).to(device)\n",
    "                    y = y.to(dtype=torch.long).to(device)\n",
    "                    p = network(x)\n",
    "                    l = loss(p, y)\n",
    "                    # no backward pass for validation set\n",
    "                    validation_loss += l.item()\n",
    "                    _, p_c = p.max(1)\n",
    "                    val_preds.extend(p_c)\n",
    "                    val_gt.extend(y)\n",
    "                    validation_correct += p_c.eq(y).sum().item()\n",
    "                    validation_total += x.size(0)\n",
    "                val_losses[ep] = validation_loss / (i + 1)\n",
    "                val_accs[ep] = 100 * validation_correct / validation_total\n",
    "                val_acc_per_class = acc_metric(torch.stack(val_preds), torch.stack(val_gt))\n",
    "                print(f'Epoch {ep} | Validation | Loss {val_losses[ep]:3.2f} |'\n",
    "                      f' Acc {val_accs[ep]:5.2f}% (0:{val_acc_per_class[0]:5.2f} 1:{val_acc_per_class[1]:5.2f} 2:{val_acc_per_class[2]:5.2f})')\n",
    "    fig, axs = pylab.subplots(1, 2, sharex=True)\n",
    "    axs[0].plot(train_losses, label='train', color='xkcd:blue')\n",
    "    axs[0].plot(val_losses, label='val', color='xkcd:red')\n",
    "    axs[0].set_title('Loss')\n",
    "    axs[0].set_xlabel('Epochs')\n",
    "\n",
    "    axs[1].plot(train_accs, label='train', color='xkcd:blue')\n",
    "    axs[1].plot(val_accs, label='val', color='xkcd:red')\n",
    "    axs[1].set_title('Accuracy')\n",
    "    axs[1].set_xlabel('Epochs')\n",
    "    \n",
    "    print('Running network on test data...')\n",
    "    test_dataset = WaveformDataset('./input/classification_test_data.npz', test=True)\n",
    "    # IMPORTANT: do NOT shuffle test set\n",
    "    test_dataloader = DataLoader(test_dataset, batch_size=128, num_workers=8, pin_memory=device, shuffle=False)\n",
    "    network.eval()\n",
    "    test_preds = []\n",
    "    test_gt = []\n",
    "    with torch.no_grad():\n",
    "        for i, x in enumerate(test_dataloader):\n",
    "            x = x.unsqueeze_(1).to(dtype=torch.float32).to(device)\n",
    "            p = network(x)\n",
    "\n",
    "            _, p_c = p.max(1)\n",
    "            test_preds.extend(p_c.cpu().numpy())\n",
    "    # write result to csv\n",
    "    df = pd.DataFrame({'Category': np.asarray(test_preds)})\n",
    "    df.index.name = 'Id'\n",
    "    df.to_csv('classification_test_predictions_'+'_'+str(k)+'_'+j.__name__+'.csv')"
   ]
  },
  {
   "cell_type": "code",
   "execution_count": null,
   "id": "962dfa29-7e23-48fd-9def-b176ba769f70",
   "metadata": {},
   "outputs": [],
   "source": []
  }
 ],
 "metadata": {
  "kernelspec": {
   "display_name": "Python 3",
   "language": "python",
   "name": "python3"
  },
  "language_info": {
   "codemirror_mode": {
    "name": "ipython",
    "version": 3
   },
   "file_extension": ".py",
   "mimetype": "text/x-python",
   "name": "python",
   "nbconvert_exporter": "python",
   "pygments_lexer": "ipython3",
   "version": "3.7.3"
  }
 },
 "nbformat": 4,
 "nbformat_minor": 5
}
